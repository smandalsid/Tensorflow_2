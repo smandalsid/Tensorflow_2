{
  "nbformat": 4,
  "nbformat_minor": 0,
  "metadata": {
    "colab": {
      "provenance": [],
      "authorship_tag": "ABX9TyOv1yfK6KMfOz5Q7egvbHaF",
      "include_colab_link": true
    },
    "kernelspec": {
      "name": "python3",
      "display_name": "Python 3"
    },
    "language_info": {
      "name": "python"
    }
  },
  "cells": [
    {
      "cell_type": "markdown",
      "metadata": {
        "id": "view-in-github",
        "colab_type": "text"
      },
      "source": [
        "<a href=\"https://colab.research.google.com/github/smandalsid/Tensorflow_2/blob/main/mnist_V1.ipynb\" target=\"_parent\"><img src=\"https://colab.research.google.com/assets/colab-badge.svg\" alt=\"Open In Colab\"/></a>"
      ]
    },
    {
      "cell_type": "code",
      "execution_count": null,
      "metadata": {
        "id": "WhwnZXLrF0Fu"
      },
      "outputs": [],
      "source": [
        "import tensorflow as tf\n",
        "import numpy as np\n",
        "from tensorflow import keras"
      ]
    },
    {
      "cell_type": "code",
      "source": [
        "EPOCHS = 200\n",
        "BATCH_SIZE = 128\n",
        "VERBOSE = 1\n",
        "NB_CLASSES = 10   # number of outputs = number of digits\n",
        "N_HIDDEN = 128\n",
        "VALIDATION_SPLIT=0.2 # how much TRAIN is reserved for VALIDATION"
      ],
      "metadata": {
        "id": "FKrUhvJIGIEy"
      },
      "execution_count": null,
      "outputs": []
    },
    {
      "cell_type": "code",
      "source": [
        "mnist = keras.datasets.mnist\n",
        "(X_train, Y_train), (X_test, Y_test) = mnist.load_data()"
      ],
      "metadata": {
        "colab": {
          "base_uri": "https://localhost:8080/"
        },
        "id": "KX4A0PsxGTiT",
        "outputId": "bdfe470b-e054-4174-b3f0-9220f4278a36"
      },
      "execution_count": null,
      "outputs": [
        {
          "output_type": "stream",
          "name": "stdout",
          "text": [
            "Downloading data from https://storage.googleapis.com/tensorflow/tf-keras-datasets/mnist.npz\n",
            "11490434/11490434 [==============================] - 0s 0us/step\n"
          ]
        }
      ]
    },
    {
      "cell_type": "code",
      "source": [
        "RESHAPED = 784\n",
        "#\n",
        "X_train = X_train.reshape(60000, RESHAPED)\n",
        "X_test = X_test.reshape(10000, RESHAPED)\n",
        "X_train = X_train.astype('float32')\n",
        "X_test = X_test.astype('float32')\n"
      ],
      "metadata": {
        "id": "pYVL8dNKGVN8"
      },
      "execution_count": null,
      "outputs": []
    },
    {
      "cell_type": "code",
      "source": [
        "#normalize in [0,1]\n",
        "X_train /= 255\n",
        "X_test /= 255\n",
        "print(X_train.shape[0], 'train samples')\n",
        "print(X_test.shape[0], 'test samples')"
      ],
      "metadata": {
        "colab": {
          "base_uri": "https://localhost:8080/"
        },
        "id": "3CvMWbmJGWsF",
        "outputId": "3a9911d4-eead-47e9-a1a0-bcd7cbd06a79"
      },
      "execution_count": null,
      "outputs": [
        {
          "output_type": "stream",
          "name": "stdout",
          "text": [
            "60000 train samples\n",
            "10000 test samples\n"
          ]
        }
      ]
    },
    {
      "cell_type": "code",
      "source": [
        "#one-hot\n",
        "Y_train = tf.keras.utils.to_categorical(Y_train, NB_CLASSES)\n",
        "Y_test = tf.keras.utils.to_categorical(Y_test, NB_CLASSES)"
      ],
      "metadata": {
        "id": "4jtPoAsIGYWM"
      },
      "execution_count": null,
      "outputs": []
    },
    {
      "cell_type": "code",
      "source": [
        "#build the model\n",
        "model = tf.keras.models.Sequential()\n",
        "model.add(keras.layers.Dense(NB_CLASSES,\n",
        "   \t\tinput_shape=(RESHAPED,),\n",
        "   \t\tname='dense_layer',\n",
        "   \t\tactivation='softmax'))"
      ],
      "metadata": {
        "id": "lchAKj-dGgP4"
      },
      "execution_count": null,
      "outputs": []
    },
    {
      "cell_type": "code",
      "source": [
        "# summary of the model\n",
        "model.summary()"
      ],
      "metadata": {
        "colab": {
          "base_uri": "https://localhost:8080/"
        },
        "id": "hzYwtsrCGhkL",
        "outputId": "15e70902-a643-4839-d293-f51d0d9aea58"
      },
      "execution_count": null,
      "outputs": [
        {
          "output_type": "stream",
          "name": "stdout",
          "text": [
            "Model: \"sequential\"\n",
            "_________________________________________________________________\n",
            " Layer (type)                Output Shape              Param #   \n",
            "=================================================================\n",
            " dense_layer (Dense)         (None, 10)                7850      \n",
            "                                                                 \n",
            "=================================================================\n",
            "Total params: 7,850\n",
            "Trainable params: 7,850\n",
            "Non-trainable params: 0\n",
            "_________________________________________________________________\n"
          ]
        }
      ]
    },
    {
      "cell_type": "code",
      "source": [
        "model.compile(optimizer='SGD',\n",
        "              loss='categorical_crossentropy',\n",
        "              metrics=['accuracy'])"
      ],
      "metadata": {
        "id": "4lxGqvKQGip0"
      },
      "execution_count": null,
      "outputs": []
    },
    {
      "cell_type": "code",
      "source": [
        "model.fit(X_train, Y_train,\n",
        "\t\tbatch_size=BATCH_SIZE, epochs=EPOCHS,\n",
        "\t\tverbose=VERBOSE, validation_split=VALIDATION_SPLIT)"
      ],
      "metadata": {
        "colab": {
          "base_uri": "https://localhost:8080/"
        },
        "id": "Y4KZ_G2nGlhs",
        "outputId": "bb19e380-27e8-45f3-d7c8-b00d0b078c9c"
      },
      "execution_count": null,
      "outputs": [
        {
          "output_type": "stream",
          "name": "stdout",
          "text": [
            "Epoch 1/200\n",
            "375/375 [==============================] - 3s 5ms/step - loss: 1.3792 - accuracy: 0.6733 - val_loss: 0.8865 - val_accuracy: 0.8296\n",
            "Epoch 2/200\n",
            "375/375 [==============================] - 1s 2ms/step - loss: 0.7884 - accuracy: 0.8293 - val_loss: 0.6520 - val_accuracy: 0.8577\n",
            "Epoch 3/200\n",
            "375/375 [==============================] - 1s 2ms/step - loss: 0.6407 - accuracy: 0.8497 - val_loss: 0.5587 - val_accuracy: 0.8700\n",
            "Epoch 4/200\n",
            "375/375 [==============================] - 1s 2ms/step - loss: 0.5695 - accuracy: 0.8609 - val_loss: 0.5066 - val_accuracy: 0.8773\n",
            "Epoch 5/200\n",
            "375/375 [==============================] - 1s 2ms/step - loss: 0.5259 - accuracy: 0.8684 - val_loss: 0.4731 - val_accuracy: 0.8833\n",
            "Epoch 6/200\n",
            "375/375 [==============================] - 1s 2ms/step - loss: 0.4960 - accuracy: 0.8726 - val_loss: 0.4494 - val_accuracy: 0.8853\n",
            "Epoch 7/200\n",
            "375/375 [==============================] - 1s 2ms/step - loss: 0.4737 - accuracy: 0.8774 - val_loss: 0.4314 - val_accuracy: 0.8891\n",
            "Epoch 8/200\n",
            "375/375 [==============================] - 1s 2ms/step - loss: 0.4565 - accuracy: 0.8801 - val_loss: 0.4172 - val_accuracy: 0.8925\n",
            "Epoch 9/200\n",
            "375/375 [==============================] - 1s 2ms/step - loss: 0.4425 - accuracy: 0.8830 - val_loss: 0.4058 - val_accuracy: 0.8938\n",
            "Epoch 10/200\n",
            "375/375 [==============================] - 1s 3ms/step - loss: 0.4310 - accuracy: 0.8849 - val_loss: 0.3962 - val_accuracy: 0.8962\n",
            "Epoch 11/200\n",
            "375/375 [==============================] - 1s 4ms/step - loss: 0.4212 - accuracy: 0.8871 - val_loss: 0.3880 - val_accuracy: 0.8981\n",
            "Epoch 12/200\n",
            "375/375 [==============================] - 1s 3ms/step - loss: 0.4128 - accuracy: 0.8887 - val_loss: 0.3813 - val_accuracy: 0.8984\n",
            "Epoch 13/200\n",
            "375/375 [==============================] - 1s 2ms/step - loss: 0.4055 - accuracy: 0.8901 - val_loss: 0.3751 - val_accuracy: 0.9007\n",
            "Epoch 14/200\n",
            "375/375 [==============================] - 1s 2ms/step - loss: 0.3990 - accuracy: 0.8914 - val_loss: 0.3697 - val_accuracy: 0.9018\n",
            "Epoch 15/200\n",
            "375/375 [==============================] - 1s 3ms/step - loss: 0.3932 - accuracy: 0.8925 - val_loss: 0.3651 - val_accuracy: 0.9029\n",
            "Epoch 16/200\n",
            "375/375 [==============================] - 1s 3ms/step - loss: 0.3880 - accuracy: 0.8938 - val_loss: 0.3608 - val_accuracy: 0.9038\n",
            "Epoch 17/200\n",
            "375/375 [==============================] - 1s 2ms/step - loss: 0.3834 - accuracy: 0.8951 - val_loss: 0.3570 - val_accuracy: 0.9047\n",
            "Epoch 18/200\n",
            "375/375 [==============================] - 1s 2ms/step - loss: 0.3790 - accuracy: 0.8966 - val_loss: 0.3534 - val_accuracy: 0.9052\n",
            "Epoch 19/200\n",
            "375/375 [==============================] - 1s 2ms/step - loss: 0.3751 - accuracy: 0.8969 - val_loss: 0.3501 - val_accuracy: 0.9056\n",
            "Epoch 20/200\n",
            "375/375 [==============================] - 1s 2ms/step - loss: 0.3716 - accuracy: 0.8978 - val_loss: 0.3471 - val_accuracy: 0.9056\n",
            "Epoch 21/200\n",
            "375/375 [==============================] - 1s 2ms/step - loss: 0.3682 - accuracy: 0.8989 - val_loss: 0.3445 - val_accuracy: 0.9062\n",
            "Epoch 22/200\n",
            "375/375 [==============================] - 1s 2ms/step - loss: 0.3651 - accuracy: 0.8995 - val_loss: 0.3419 - val_accuracy: 0.9068\n",
            "Epoch 23/200\n",
            "375/375 [==============================] - 1s 4ms/step - loss: 0.3622 - accuracy: 0.8999 - val_loss: 0.3395 - val_accuracy: 0.9072\n",
            "Epoch 24/200\n",
            "375/375 [==============================] - 1s 4ms/step - loss: 0.3595 - accuracy: 0.9005 - val_loss: 0.3374 - val_accuracy: 0.9082\n",
            "Epoch 25/200\n",
            "375/375 [==============================] - 1s 2ms/step - loss: 0.3570 - accuracy: 0.9012 - val_loss: 0.3353 - val_accuracy: 0.9082\n",
            "Epoch 26/200\n",
            "375/375 [==============================] - 1s 3ms/step - loss: 0.3546 - accuracy: 0.9018 - val_loss: 0.3333 - val_accuracy: 0.9087\n",
            "Epoch 27/200\n",
            "375/375 [==============================] - 1s 2ms/step - loss: 0.3524 - accuracy: 0.9022 - val_loss: 0.3315 - val_accuracy: 0.9088\n",
            "Epoch 28/200\n",
            "375/375 [==============================] - 1s 2ms/step - loss: 0.3502 - accuracy: 0.9029 - val_loss: 0.3298 - val_accuracy: 0.9089\n",
            "Epoch 29/200\n",
            "375/375 [==============================] - 1s 2ms/step - loss: 0.3482 - accuracy: 0.9031 - val_loss: 0.3282 - val_accuracy: 0.9098\n",
            "Epoch 30/200\n",
            "375/375 [==============================] - 1s 2ms/step - loss: 0.3463 - accuracy: 0.9036 - val_loss: 0.3267 - val_accuracy: 0.9101\n",
            "Epoch 31/200\n",
            "375/375 [==============================] - 1s 2ms/step - loss: 0.3445 - accuracy: 0.9043 - val_loss: 0.3252 - val_accuracy: 0.9105\n",
            "Epoch 32/200\n",
            "375/375 [==============================] - 1s 2ms/step - loss: 0.3427 - accuracy: 0.9043 - val_loss: 0.3239 - val_accuracy: 0.9112\n",
            "Epoch 33/200\n",
            "375/375 [==============================] - 1s 2ms/step - loss: 0.3411 - accuracy: 0.9051 - val_loss: 0.3225 - val_accuracy: 0.9113\n",
            "Epoch 34/200\n",
            "375/375 [==============================] - 1s 2ms/step - loss: 0.3396 - accuracy: 0.9053 - val_loss: 0.3212 - val_accuracy: 0.9116\n",
            "Epoch 35/200\n",
            "375/375 [==============================] - 1s 2ms/step - loss: 0.3380 - accuracy: 0.9062 - val_loss: 0.3200 - val_accuracy: 0.9127\n",
            "Epoch 36/200\n",
            "375/375 [==============================] - 1s 4ms/step - loss: 0.3366 - accuracy: 0.9065 - val_loss: 0.3190 - val_accuracy: 0.9124\n",
            "Epoch 37/200\n",
            "375/375 [==============================] - 1s 4ms/step - loss: 0.3352 - accuracy: 0.9069 - val_loss: 0.3177 - val_accuracy: 0.9129\n",
            "Epoch 38/200\n",
            "375/375 [==============================] - 1s 2ms/step - loss: 0.3339 - accuracy: 0.9071 - val_loss: 0.3166 - val_accuracy: 0.9129\n",
            "Epoch 39/200\n",
            "375/375 [==============================] - 1s 2ms/step - loss: 0.3326 - accuracy: 0.9079 - val_loss: 0.3156 - val_accuracy: 0.9136\n",
            "Epoch 40/200\n",
            "375/375 [==============================] - 1s 2ms/step - loss: 0.3314 - accuracy: 0.9082 - val_loss: 0.3147 - val_accuracy: 0.9137\n",
            "Epoch 41/200\n",
            "375/375 [==============================] - 1s 2ms/step - loss: 0.3302 - accuracy: 0.9085 - val_loss: 0.3137 - val_accuracy: 0.9139\n",
            "Epoch 42/200\n",
            "375/375 [==============================] - 1s 2ms/step - loss: 0.3290 - accuracy: 0.9089 - val_loss: 0.3129 - val_accuracy: 0.9145\n",
            "Epoch 43/200\n",
            "375/375 [==============================] - 1s 2ms/step - loss: 0.3279 - accuracy: 0.9091 - val_loss: 0.3119 - val_accuracy: 0.9141\n",
            "Epoch 44/200\n",
            "375/375 [==============================] - 1s 2ms/step - loss: 0.3269 - accuracy: 0.9094 - val_loss: 0.3111 - val_accuracy: 0.9143\n",
            "Epoch 45/200\n",
            "375/375 [==============================] - 1s 2ms/step - loss: 0.3258 - accuracy: 0.9097 - val_loss: 0.3103 - val_accuracy: 0.9144\n",
            "Epoch 46/200\n",
            "375/375 [==============================] - 1s 2ms/step - loss: 0.3248 - accuracy: 0.9099 - val_loss: 0.3096 - val_accuracy: 0.9149\n",
            "Epoch 47/200\n",
            "375/375 [==============================] - 1s 2ms/step - loss: 0.3239 - accuracy: 0.9103 - val_loss: 0.3087 - val_accuracy: 0.9145\n",
            "Epoch 48/200\n",
            "375/375 [==============================] - 1s 2ms/step - loss: 0.3229 - accuracy: 0.9105 - val_loss: 0.3080 - val_accuracy: 0.9147\n",
            "Epoch 49/200\n",
            "375/375 [==============================] - 1s 3ms/step - loss: 0.3220 - accuracy: 0.9108 - val_loss: 0.3073 - val_accuracy: 0.9153\n",
            "Epoch 50/200\n",
            "375/375 [==============================] - 1s 3ms/step - loss: 0.3211 - accuracy: 0.9107 - val_loss: 0.3068 - val_accuracy: 0.9152\n",
            "Epoch 51/200\n",
            "375/375 [==============================] - 1s 3ms/step - loss: 0.3203 - accuracy: 0.9109 - val_loss: 0.3059 - val_accuracy: 0.9151\n",
            "Epoch 52/200\n",
            "375/375 [==============================] - 1s 2ms/step - loss: 0.3195 - accuracy: 0.9113 - val_loss: 0.3054 - val_accuracy: 0.9153\n",
            "Epoch 53/200\n",
            "375/375 [==============================] - 1s 2ms/step - loss: 0.3186 - accuracy: 0.9118 - val_loss: 0.3046 - val_accuracy: 0.9157\n",
            "Epoch 54/200\n",
            "375/375 [==============================] - 1s 2ms/step - loss: 0.3179 - accuracy: 0.9118 - val_loss: 0.3041 - val_accuracy: 0.9158\n",
            "Epoch 55/200\n",
            "375/375 [==============================] - 1s 2ms/step - loss: 0.3171 - accuracy: 0.9121 - val_loss: 0.3036 - val_accuracy: 0.9156\n",
            "Epoch 56/200\n",
            "375/375 [==============================] - 1s 2ms/step - loss: 0.3164 - accuracy: 0.9125 - val_loss: 0.3030 - val_accuracy: 0.9158\n",
            "Epoch 57/200\n",
            "375/375 [==============================] - 1s 2ms/step - loss: 0.3156 - accuracy: 0.9128 - val_loss: 0.3024 - val_accuracy: 0.9158\n",
            "Epoch 58/200\n",
            "375/375 [==============================] - 1s 2ms/step - loss: 0.3149 - accuracy: 0.9129 - val_loss: 0.3018 - val_accuracy: 0.9160\n",
            "Epoch 59/200\n",
            "375/375 [==============================] - 1s 2ms/step - loss: 0.3142 - accuracy: 0.9131 - val_loss: 0.3013 - val_accuracy: 0.9162\n",
            "Epoch 60/200\n",
            "375/375 [==============================] - 1s 2ms/step - loss: 0.3136 - accuracy: 0.9136 - val_loss: 0.3008 - val_accuracy: 0.9167\n",
            "Epoch 61/200\n",
            "375/375 [==============================] - 1s 2ms/step - loss: 0.3129 - accuracy: 0.9135 - val_loss: 0.3002 - val_accuracy: 0.9166\n",
            "Epoch 62/200\n",
            "375/375 [==============================] - 1s 3ms/step - loss: 0.3123 - accuracy: 0.9137 - val_loss: 0.2997 - val_accuracy: 0.9168\n",
            "Epoch 63/200\n",
            "375/375 [==============================] - 1s 4ms/step - loss: 0.3117 - accuracy: 0.9142 - val_loss: 0.2994 - val_accuracy: 0.9162\n",
            "Epoch 64/200\n",
            "375/375 [==============================] - 1s 3ms/step - loss: 0.3110 - accuracy: 0.9139 - val_loss: 0.2988 - val_accuracy: 0.9168\n",
            "Epoch 65/200\n",
            "375/375 [==============================] - 1s 2ms/step - loss: 0.3104 - accuracy: 0.9143 - val_loss: 0.2984 - val_accuracy: 0.9172\n",
            "Epoch 66/200\n",
            "375/375 [==============================] - 1s 2ms/step - loss: 0.3098 - accuracy: 0.9142 - val_loss: 0.2980 - val_accuracy: 0.9173\n",
            "Epoch 67/200\n",
            "375/375 [==============================] - 1s 2ms/step - loss: 0.3093 - accuracy: 0.9145 - val_loss: 0.2976 - val_accuracy: 0.9171\n",
            "Epoch 68/200\n",
            "375/375 [==============================] - 1s 3ms/step - loss: 0.3087 - accuracy: 0.9146 - val_loss: 0.2971 - val_accuracy: 0.9177\n",
            "Epoch 69/200\n",
            "375/375 [==============================] - 1s 2ms/step - loss: 0.3082 - accuracy: 0.9146 - val_loss: 0.2967 - val_accuracy: 0.9173\n",
            "Epoch 70/200\n",
            "375/375 [==============================] - 1s 2ms/step - loss: 0.3076 - accuracy: 0.9150 - val_loss: 0.2964 - val_accuracy: 0.9172\n",
            "Epoch 71/200\n",
            "375/375 [==============================] - 1s 2ms/step - loss: 0.3071 - accuracy: 0.9149 - val_loss: 0.2959 - val_accuracy: 0.9175\n",
            "Epoch 72/200\n",
            "375/375 [==============================] - 1s 2ms/step - loss: 0.3066 - accuracy: 0.9149 - val_loss: 0.2957 - val_accuracy: 0.9173\n",
            "Epoch 73/200\n",
            "375/375 [==============================] - 1s 2ms/step - loss: 0.3061 - accuracy: 0.9152 - val_loss: 0.2952 - val_accuracy: 0.9176\n",
            "Epoch 74/200\n",
            "375/375 [==============================] - 1s 2ms/step - loss: 0.3056 - accuracy: 0.9153 - val_loss: 0.2948 - val_accuracy: 0.9176\n",
            "Epoch 75/200\n",
            "375/375 [==============================] - 1s 3ms/step - loss: 0.3051 - accuracy: 0.9154 - val_loss: 0.2945 - val_accuracy: 0.9176\n",
            "Epoch 76/200\n",
            "375/375 [==============================] - 1s 4ms/step - loss: 0.3046 - accuracy: 0.9157 - val_loss: 0.2941 - val_accuracy: 0.9178\n",
            "Epoch 77/200\n",
            "375/375 [==============================] - 1s 3ms/step - loss: 0.3042 - accuracy: 0.9156 - val_loss: 0.2938 - val_accuracy: 0.9181\n",
            "Epoch 78/200\n",
            "375/375 [==============================] - 1s 2ms/step - loss: 0.3037 - accuracy: 0.9158 - val_loss: 0.2934 - val_accuracy: 0.9183\n",
            "Epoch 79/200\n",
            "375/375 [==============================] - 1s 2ms/step - loss: 0.3033 - accuracy: 0.9158 - val_loss: 0.2931 - val_accuracy: 0.9183\n",
            "Epoch 80/200\n",
            "375/375 [==============================] - 1s 2ms/step - loss: 0.3028 - accuracy: 0.9164 - val_loss: 0.2928 - val_accuracy: 0.9184\n",
            "Epoch 81/200\n",
            "375/375 [==============================] - 1s 2ms/step - loss: 0.3024 - accuracy: 0.9164 - val_loss: 0.2926 - val_accuracy: 0.9184\n",
            "Epoch 82/200\n",
            "375/375 [==============================] - 1s 2ms/step - loss: 0.3020 - accuracy: 0.9164 - val_loss: 0.2921 - val_accuracy: 0.9184\n",
            "Epoch 83/200\n",
            "375/375 [==============================] - 1s 2ms/step - loss: 0.3016 - accuracy: 0.9165 - val_loss: 0.2918 - val_accuracy: 0.9185\n",
            "Epoch 84/200\n",
            "375/375 [==============================] - 1s 3ms/step - loss: 0.3012 - accuracy: 0.9163 - val_loss: 0.2915 - val_accuracy: 0.9186\n",
            "Epoch 85/200\n",
            "375/375 [==============================] - 1s 3ms/step - loss: 0.3007 - accuracy: 0.9166 - val_loss: 0.2912 - val_accuracy: 0.9193\n",
            "Epoch 86/200\n",
            "375/375 [==============================] - 1s 3ms/step - loss: 0.3004 - accuracy: 0.9168 - val_loss: 0.2910 - val_accuracy: 0.9189\n",
            "Epoch 87/200\n",
            "375/375 [==============================] - 1s 3ms/step - loss: 0.3000 - accuracy: 0.9167 - val_loss: 0.2907 - val_accuracy: 0.9189\n",
            "Epoch 88/200\n",
            "375/375 [==============================] - 2s 4ms/step - loss: 0.2996 - accuracy: 0.9171 - val_loss: 0.2904 - val_accuracy: 0.9187\n",
            "Epoch 89/200\n",
            "375/375 [==============================] - 2s 6ms/step - loss: 0.2992 - accuracy: 0.9168 - val_loss: 0.2902 - val_accuracy: 0.9194\n",
            "Epoch 90/200\n",
            "375/375 [==============================] - 1s 4ms/step - loss: 0.2988 - accuracy: 0.9170 - val_loss: 0.2898 - val_accuracy: 0.9189\n",
            "Epoch 91/200\n",
            "375/375 [==============================] - 1s 3ms/step - loss: 0.2985 - accuracy: 0.9171 - val_loss: 0.2896 - val_accuracy: 0.9192\n",
            "Epoch 92/200\n",
            "375/375 [==============================] - 2s 4ms/step - loss: 0.2981 - accuracy: 0.9174 - val_loss: 0.2893 - val_accuracy: 0.9190\n",
            "Epoch 93/200\n",
            "375/375 [==============================] - 1s 2ms/step - loss: 0.2977 - accuracy: 0.9173 - val_loss: 0.2891 - val_accuracy: 0.9195\n",
            "Epoch 94/200\n",
            "375/375 [==============================] - 1s 2ms/step - loss: 0.2974 - accuracy: 0.9177 - val_loss: 0.2888 - val_accuracy: 0.9192\n",
            "Epoch 95/200\n",
            "375/375 [==============================] - 1s 2ms/step - loss: 0.2971 - accuracy: 0.9173 - val_loss: 0.2886 - val_accuracy: 0.9196\n",
            "Epoch 96/200\n",
            "375/375 [==============================] - 1s 2ms/step - loss: 0.2967 - accuracy: 0.9177 - val_loss: 0.2884 - val_accuracy: 0.9197\n",
            "Epoch 97/200\n",
            "375/375 [==============================] - 1s 2ms/step - loss: 0.2964 - accuracy: 0.9175 - val_loss: 0.2881 - val_accuracy: 0.9196\n",
            "Epoch 98/200\n",
            "375/375 [==============================] - 1s 3ms/step - loss: 0.2960 - accuracy: 0.9177 - val_loss: 0.2879 - val_accuracy: 0.9197\n",
            "Epoch 99/200\n",
            "375/375 [==============================] - 1s 3ms/step - loss: 0.2958 - accuracy: 0.9180 - val_loss: 0.2877 - val_accuracy: 0.9199\n",
            "Epoch 100/200\n",
            "375/375 [==============================] - 1s 3ms/step - loss: 0.2954 - accuracy: 0.9179 - val_loss: 0.2875 - val_accuracy: 0.9200\n",
            "Epoch 101/200\n",
            "375/375 [==============================] - 1s 2ms/step - loss: 0.2951 - accuracy: 0.9178 - val_loss: 0.2872 - val_accuracy: 0.9198\n",
            "Epoch 102/200\n",
            "375/375 [==============================] - 1s 2ms/step - loss: 0.2948 - accuracy: 0.9183 - val_loss: 0.2871 - val_accuracy: 0.9202\n",
            "Epoch 103/200\n",
            "375/375 [==============================] - 1s 2ms/step - loss: 0.2945 - accuracy: 0.9181 - val_loss: 0.2868 - val_accuracy: 0.9203\n",
            "Epoch 104/200\n",
            "375/375 [==============================] - 1s 2ms/step - loss: 0.2942 - accuracy: 0.9182 - val_loss: 0.2866 - val_accuracy: 0.9204\n",
            "Epoch 105/200\n",
            "375/375 [==============================] - 2s 5ms/step - loss: 0.2939 - accuracy: 0.9183 - val_loss: 0.2864 - val_accuracy: 0.9200\n",
            "Epoch 106/200\n",
            "375/375 [==============================] - 2s 5ms/step - loss: 0.2936 - accuracy: 0.9182 - val_loss: 0.2862 - val_accuracy: 0.9205\n",
            "Epoch 107/200\n",
            "375/375 [==============================] - 2s 5ms/step - loss: 0.2933 - accuracy: 0.9186 - val_loss: 0.2860 - val_accuracy: 0.9202\n",
            "Epoch 108/200\n",
            "375/375 [==============================] - 3s 8ms/step - loss: 0.2930 - accuracy: 0.9185 - val_loss: 0.2858 - val_accuracy: 0.9203\n",
            "Epoch 109/200\n",
            "375/375 [==============================] - 1s 3ms/step - loss: 0.2927 - accuracy: 0.9188 - val_loss: 0.2856 - val_accuracy: 0.9207\n",
            "Epoch 110/200\n",
            "375/375 [==============================] - 1s 2ms/step - loss: 0.2924 - accuracy: 0.9190 - val_loss: 0.2854 - val_accuracy: 0.9209\n",
            "Epoch 111/200\n",
            "375/375 [==============================] - 1s 2ms/step - loss: 0.2922 - accuracy: 0.9188 - val_loss: 0.2853 - val_accuracy: 0.9208\n",
            "Epoch 112/200\n",
            "375/375 [==============================] - 1s 2ms/step - loss: 0.2919 - accuracy: 0.9190 - val_loss: 0.2850 - val_accuracy: 0.9211\n",
            "Epoch 113/200\n",
            "375/375 [==============================] - 1s 2ms/step - loss: 0.2916 - accuracy: 0.9190 - val_loss: 0.2848 - val_accuracy: 0.9211\n",
            "Epoch 114/200\n",
            "375/375 [==============================] - 1s 2ms/step - loss: 0.2913 - accuracy: 0.9191 - val_loss: 0.2846 - val_accuracy: 0.9211\n",
            "Epoch 115/200\n",
            "375/375 [==============================] - 1s 2ms/step - loss: 0.2911 - accuracy: 0.9193 - val_loss: 0.2845 - val_accuracy: 0.9208\n",
            "Epoch 116/200\n",
            "375/375 [==============================] - 1s 2ms/step - loss: 0.2909 - accuracy: 0.9194 - val_loss: 0.2843 - val_accuracy: 0.9212\n",
            "Epoch 117/200\n",
            "375/375 [==============================] - 1s 2ms/step - loss: 0.2906 - accuracy: 0.9194 - val_loss: 0.2841 - val_accuracy: 0.9209\n",
            "Epoch 118/200\n",
            "375/375 [==============================] - 1s 2ms/step - loss: 0.2904 - accuracy: 0.9195 - val_loss: 0.2840 - val_accuracy: 0.9212\n",
            "Epoch 119/200\n",
            "375/375 [==============================] - 1s 2ms/step - loss: 0.2901 - accuracy: 0.9195 - val_loss: 0.2838 - val_accuracy: 0.9212\n",
            "Epoch 120/200\n",
            "375/375 [==============================] - 1s 4ms/step - loss: 0.2898 - accuracy: 0.9196 - val_loss: 0.2836 - val_accuracy: 0.9213\n",
            "Epoch 121/200\n",
            "375/375 [==============================] - 1s 4ms/step - loss: 0.2896 - accuracy: 0.9196 - val_loss: 0.2834 - val_accuracy: 0.9212\n",
            "Epoch 122/200\n",
            "375/375 [==============================] - 1s 2ms/step - loss: 0.2893 - accuracy: 0.9196 - val_loss: 0.2834 - val_accuracy: 0.9216\n",
            "Epoch 123/200\n",
            "375/375 [==============================] - 1s 2ms/step - loss: 0.2891 - accuracy: 0.9198 - val_loss: 0.2831 - val_accuracy: 0.9216\n",
            "Epoch 124/200\n",
            "375/375 [==============================] - 1s 2ms/step - loss: 0.2889 - accuracy: 0.9199 - val_loss: 0.2830 - val_accuracy: 0.9213\n",
            "Epoch 125/200\n",
            "375/375 [==============================] - 1s 2ms/step - loss: 0.2887 - accuracy: 0.9198 - val_loss: 0.2829 - val_accuracy: 0.9216\n",
            "Epoch 126/200\n",
            "375/375 [==============================] - 1s 2ms/step - loss: 0.2885 - accuracy: 0.9199 - val_loss: 0.2827 - val_accuracy: 0.9217\n",
            "Epoch 127/200\n",
            "375/375 [==============================] - 1s 2ms/step - loss: 0.2882 - accuracy: 0.9198 - val_loss: 0.2825 - val_accuracy: 0.9215\n",
            "Epoch 128/200\n",
            "375/375 [==============================] - 1s 2ms/step - loss: 0.2880 - accuracy: 0.9199 - val_loss: 0.2824 - val_accuracy: 0.9218\n",
            "Epoch 129/200\n",
            "375/375 [==============================] - 1s 2ms/step - loss: 0.2877 - accuracy: 0.9200 - val_loss: 0.2823 - val_accuracy: 0.9210\n",
            "Epoch 130/200\n",
            "375/375 [==============================] - 1s 3ms/step - loss: 0.2875 - accuracy: 0.9202 - val_loss: 0.2820 - val_accuracy: 0.9216\n",
            "Epoch 131/200\n",
            "375/375 [==============================] - 1s 4ms/step - loss: 0.2873 - accuracy: 0.9201 - val_loss: 0.2819 - val_accuracy: 0.9218\n",
            "Epoch 132/200\n",
            "375/375 [==============================] - 1s 4ms/step - loss: 0.2871 - accuracy: 0.9202 - val_loss: 0.2818 - val_accuracy: 0.9218\n",
            "Epoch 133/200\n",
            "375/375 [==============================] - 1s 4ms/step - loss: 0.2869 - accuracy: 0.9202 - val_loss: 0.2817 - val_accuracy: 0.9216\n",
            "Epoch 134/200\n",
            "375/375 [==============================] - 1s 4ms/step - loss: 0.2867 - accuracy: 0.9202 - val_loss: 0.2815 - val_accuracy: 0.9213\n",
            "Epoch 135/200\n",
            "375/375 [==============================] - 1s 2ms/step - loss: 0.2865 - accuracy: 0.9203 - val_loss: 0.2814 - val_accuracy: 0.9218\n",
            "Epoch 136/200\n",
            "375/375 [==============================] - 1s 2ms/step - loss: 0.2863 - accuracy: 0.9203 - val_loss: 0.2813 - val_accuracy: 0.9222\n",
            "Epoch 137/200\n",
            "375/375 [==============================] - 1s 2ms/step - loss: 0.2861 - accuracy: 0.9204 - val_loss: 0.2811 - val_accuracy: 0.9214\n",
            "Epoch 138/200\n",
            "375/375 [==============================] - 1s 2ms/step - loss: 0.2859 - accuracy: 0.9201 - val_loss: 0.2810 - val_accuracy: 0.9220\n",
            "Epoch 139/200\n",
            "375/375 [==============================] - 1s 2ms/step - loss: 0.2856 - accuracy: 0.9205 - val_loss: 0.2809 - val_accuracy: 0.9212\n",
            "Epoch 140/200\n",
            "375/375 [==============================] - 1s 2ms/step - loss: 0.2855 - accuracy: 0.9207 - val_loss: 0.2807 - val_accuracy: 0.9218\n",
            "Epoch 141/200\n",
            "375/375 [==============================] - 1s 2ms/step - loss: 0.2853 - accuracy: 0.9206 - val_loss: 0.2806 - val_accuracy: 0.9219\n",
            "Epoch 142/200\n",
            "375/375 [==============================] - 1s 2ms/step - loss: 0.2851 - accuracy: 0.9207 - val_loss: 0.2805 - val_accuracy: 0.9221\n",
            "Epoch 143/200\n",
            "375/375 [==============================] - 1s 2ms/step - loss: 0.2849 - accuracy: 0.9208 - val_loss: 0.2803 - val_accuracy: 0.9220\n",
            "Epoch 144/200\n",
            "375/375 [==============================] - 1s 2ms/step - loss: 0.2847 - accuracy: 0.9208 - val_loss: 0.2802 - val_accuracy: 0.9217\n",
            "Epoch 145/200\n",
            "375/375 [==============================] - 1s 2ms/step - loss: 0.2845 - accuracy: 0.9208 - val_loss: 0.2801 - val_accuracy: 0.9221\n",
            "Epoch 146/200\n",
            "375/375 [==============================] - 1s 4ms/step - loss: 0.2843 - accuracy: 0.9211 - val_loss: 0.2800 - val_accuracy: 0.9219\n",
            "Epoch 147/200\n",
            "375/375 [==============================] - 2s 4ms/step - loss: 0.2841 - accuracy: 0.9209 - val_loss: 0.2799 - val_accuracy: 0.9218\n",
            "Epoch 148/200\n",
            "375/375 [==============================] - 1s 2ms/step - loss: 0.2839 - accuracy: 0.9209 - val_loss: 0.2798 - val_accuracy: 0.9222\n",
            "Epoch 149/200\n",
            "375/375 [==============================] - 1s 2ms/step - loss: 0.2838 - accuracy: 0.9213 - val_loss: 0.2797 - val_accuracy: 0.9221\n",
            "Epoch 150/200\n",
            "375/375 [==============================] - 1s 2ms/step - loss: 0.2836 - accuracy: 0.9212 - val_loss: 0.2795 - val_accuracy: 0.9222\n",
            "Epoch 151/200\n",
            "375/375 [==============================] - 1s 2ms/step - loss: 0.2834 - accuracy: 0.9211 - val_loss: 0.2794 - val_accuracy: 0.9222\n",
            "Epoch 152/200\n",
            "375/375 [==============================] - 1s 2ms/step - loss: 0.2832 - accuracy: 0.9214 - val_loss: 0.2793 - val_accuracy: 0.9223\n",
            "Epoch 153/200\n",
            "375/375 [==============================] - 1s 2ms/step - loss: 0.2831 - accuracy: 0.9215 - val_loss: 0.2792 - val_accuracy: 0.9224\n",
            "Epoch 154/200\n",
            "375/375 [==============================] - 1s 3ms/step - loss: 0.2829 - accuracy: 0.9213 - val_loss: 0.2791 - val_accuracy: 0.9224\n",
            "Epoch 155/200\n",
            "375/375 [==============================] - 1s 2ms/step - loss: 0.2827 - accuracy: 0.9215 - val_loss: 0.2790 - val_accuracy: 0.9224\n",
            "Epoch 156/200\n",
            "375/375 [==============================] - 1s 3ms/step - loss: 0.2825 - accuracy: 0.9214 - val_loss: 0.2789 - val_accuracy: 0.9221\n",
            "Epoch 157/200\n",
            "375/375 [==============================] - 1s 2ms/step - loss: 0.2824 - accuracy: 0.9216 - val_loss: 0.2787 - val_accuracy: 0.9226\n",
            "Epoch 158/200\n",
            "375/375 [==============================] - 1s 3ms/step - loss: 0.2822 - accuracy: 0.9217 - val_loss: 0.2787 - val_accuracy: 0.9226\n",
            "Epoch 159/200\n",
            "375/375 [==============================] - 1s 4ms/step - loss: 0.2820 - accuracy: 0.9214 - val_loss: 0.2786 - val_accuracy: 0.9225\n",
            "Epoch 160/200\n",
            "375/375 [==============================] - 1s 3ms/step - loss: 0.2818 - accuracy: 0.9220 - val_loss: 0.2785 - val_accuracy: 0.9226\n",
            "Epoch 161/200\n",
            "375/375 [==============================] - 1s 2ms/step - loss: 0.2817 - accuracy: 0.9217 - val_loss: 0.2784 - val_accuracy: 0.9226\n",
            "Epoch 162/200\n",
            "375/375 [==============================] - 1s 2ms/step - loss: 0.2816 - accuracy: 0.9215 - val_loss: 0.2782 - val_accuracy: 0.9222\n",
            "Epoch 163/200\n",
            "375/375 [==============================] - 1s 2ms/step - loss: 0.2814 - accuracy: 0.9218 - val_loss: 0.2782 - val_accuracy: 0.9226\n",
            "Epoch 164/200\n",
            "375/375 [==============================] - 1s 2ms/step - loss: 0.2812 - accuracy: 0.9219 - val_loss: 0.2781 - val_accuracy: 0.9231\n",
            "Epoch 165/200\n",
            "375/375 [==============================] - 1s 2ms/step - loss: 0.2810 - accuracy: 0.9221 - val_loss: 0.2780 - val_accuracy: 0.9229\n",
            "Epoch 166/200\n",
            "375/375 [==============================] - 1s 2ms/step - loss: 0.2809 - accuracy: 0.9218 - val_loss: 0.2779 - val_accuracy: 0.9234\n",
            "Epoch 167/200\n",
            "375/375 [==============================] - 1s 2ms/step - loss: 0.2807 - accuracy: 0.9219 - val_loss: 0.2778 - val_accuracy: 0.9228\n",
            "Epoch 168/200\n",
            "375/375 [==============================] - 1s 2ms/step - loss: 0.2806 - accuracy: 0.9221 - val_loss: 0.2777 - val_accuracy: 0.9227\n",
            "Epoch 169/200\n",
            "375/375 [==============================] - 1s 2ms/step - loss: 0.2804 - accuracy: 0.9218 - val_loss: 0.2776 - val_accuracy: 0.9230\n",
            "Epoch 170/200\n",
            "375/375 [==============================] - 1s 2ms/step - loss: 0.2803 - accuracy: 0.9222 - val_loss: 0.2775 - val_accuracy: 0.9227\n",
            "Epoch 171/200\n",
            "375/375 [==============================] - 1s 3ms/step - loss: 0.2801 - accuracy: 0.9219 - val_loss: 0.2774 - val_accuracy: 0.9229\n",
            "Epoch 172/200\n",
            "375/375 [==============================] - 1s 3ms/step - loss: 0.2800 - accuracy: 0.9224 - val_loss: 0.2774 - val_accuracy: 0.9224\n",
            "Epoch 173/200\n",
            "375/375 [==============================] - 1s 3ms/step - loss: 0.2799 - accuracy: 0.9220 - val_loss: 0.2772 - val_accuracy: 0.9226\n",
            "Epoch 174/200\n",
            "375/375 [==============================] - 1s 2ms/step - loss: 0.2797 - accuracy: 0.9223 - val_loss: 0.2772 - val_accuracy: 0.9232\n",
            "Epoch 175/200\n",
            "375/375 [==============================] - 1s 2ms/step - loss: 0.2796 - accuracy: 0.9223 - val_loss: 0.2770 - val_accuracy: 0.9228\n",
            "Epoch 176/200\n",
            "375/375 [==============================] - 1s 2ms/step - loss: 0.2794 - accuracy: 0.9224 - val_loss: 0.2770 - val_accuracy: 0.9230\n",
            "Epoch 177/200\n",
            "375/375 [==============================] - 1s 2ms/step - loss: 0.2793 - accuracy: 0.9225 - val_loss: 0.2769 - val_accuracy: 0.9231\n",
            "Epoch 178/200\n",
            "375/375 [==============================] - 1s 2ms/step - loss: 0.2791 - accuracy: 0.9224 - val_loss: 0.2768 - val_accuracy: 0.9230\n",
            "Epoch 179/200\n",
            "375/375 [==============================] - 1s 3ms/step - loss: 0.2790 - accuracy: 0.9228 - val_loss: 0.2768 - val_accuracy: 0.9231\n",
            "Epoch 180/200\n",
            "375/375 [==============================] - 1s 2ms/step - loss: 0.2788 - accuracy: 0.9225 - val_loss: 0.2766 - val_accuracy: 0.9231\n",
            "Epoch 181/200\n",
            "375/375 [==============================] - 1s 2ms/step - loss: 0.2787 - accuracy: 0.9227 - val_loss: 0.2766 - val_accuracy: 0.9233\n",
            "Epoch 182/200\n",
            "375/375 [==============================] - 1s 2ms/step - loss: 0.2786 - accuracy: 0.9224 - val_loss: 0.2764 - val_accuracy: 0.9228\n",
            "Epoch 183/200\n",
            "375/375 [==============================] - 1s 3ms/step - loss: 0.2784 - accuracy: 0.9230 - val_loss: 0.2764 - val_accuracy: 0.9230\n",
            "Epoch 184/200\n",
            "375/375 [==============================] - 1s 4ms/step - loss: 0.2783 - accuracy: 0.9227 - val_loss: 0.2763 - val_accuracy: 0.9231\n",
            "Epoch 185/200\n",
            "375/375 [==============================] - 1s 4ms/step - loss: 0.2781 - accuracy: 0.9227 - val_loss: 0.2762 - val_accuracy: 0.9233\n",
            "Epoch 186/200\n",
            "375/375 [==============================] - 1s 2ms/step - loss: 0.2780 - accuracy: 0.9229 - val_loss: 0.2762 - val_accuracy: 0.9236\n",
            "Epoch 187/200\n",
            "375/375 [==============================] - 1s 2ms/step - loss: 0.2779 - accuracy: 0.9230 - val_loss: 0.2761 - val_accuracy: 0.9233\n",
            "Epoch 188/200\n",
            "375/375 [==============================] - 1s 2ms/step - loss: 0.2777 - accuracy: 0.9228 - val_loss: 0.2760 - val_accuracy: 0.9231\n",
            "Epoch 189/200\n",
            "375/375 [==============================] - 1s 2ms/step - loss: 0.2776 - accuracy: 0.9230 - val_loss: 0.2760 - val_accuracy: 0.9227\n",
            "Epoch 190/200\n",
            "375/375 [==============================] - 1s 2ms/step - loss: 0.2775 - accuracy: 0.9232 - val_loss: 0.2759 - val_accuracy: 0.9233\n",
            "Epoch 191/200\n",
            "375/375 [==============================] - 1s 2ms/step - loss: 0.2774 - accuracy: 0.9229 - val_loss: 0.2757 - val_accuracy: 0.9227\n",
            "Epoch 192/200\n",
            "375/375 [==============================] - 1s 2ms/step - loss: 0.2772 - accuracy: 0.9231 - val_loss: 0.2757 - val_accuracy: 0.9232\n",
            "Epoch 193/200\n",
            "375/375 [==============================] - 1s 2ms/step - loss: 0.2771 - accuracy: 0.9231 - val_loss: 0.2756 - val_accuracy: 0.9227\n",
            "Epoch 194/200\n",
            "375/375 [==============================] - 1s 2ms/step - loss: 0.2770 - accuracy: 0.9230 - val_loss: 0.2756 - val_accuracy: 0.9227\n",
            "Epoch 195/200\n",
            "375/375 [==============================] - 1s 2ms/step - loss: 0.2769 - accuracy: 0.9232 - val_loss: 0.2755 - val_accuracy: 0.9225\n",
            "Epoch 196/200\n",
            "375/375 [==============================] - 1s 3ms/step - loss: 0.2767 - accuracy: 0.9234 - val_loss: 0.2755 - val_accuracy: 0.9234\n",
            "Epoch 197/200\n",
            "375/375 [==============================] - 2s 4ms/step - loss: 0.2766 - accuracy: 0.9232 - val_loss: 0.2754 - val_accuracy: 0.9230\n",
            "Epoch 198/200\n",
            "375/375 [==============================] - 1s 3ms/step - loss: 0.2765 - accuracy: 0.9233 - val_loss: 0.2753 - val_accuracy: 0.9227\n",
            "Epoch 199/200\n",
            "375/375 [==============================] - 1s 2ms/step - loss: 0.2764 - accuracy: 0.9232 - val_loss: 0.2753 - val_accuracy: 0.9229\n",
            "Epoch 200/200\n",
            "375/375 [==============================] - 1s 2ms/step - loss: 0.2762 - accuracy: 0.9232 - val_loss: 0.2752 - val_accuracy: 0.9227\n"
          ]
        },
        {
          "output_type": "execute_result",
          "data": {
            "text/plain": [
              "<keras.callbacks.History at 0x7dfd6457f3a0>"
            ]
          },
          "metadata": {},
          "execution_count": 11
        }
      ]
    },
    {
      "cell_type": "code",
      "source": [
        "#evaluate the model\n",
        "test_loss, test_acc = model.evaluate(X_test, Y_test)\n",
        "print('Test accuracy:', test_acc)"
      ],
      "metadata": {
        "colab": {
          "base_uri": "https://localhost:8080/"
        },
        "id": "FDnl5bNgGnVN",
        "outputId": "1d9ea7e8-1ad0-4355-f730-22904be98736"
      },
      "execution_count": null,
      "outputs": [
        {
          "output_type": "stream",
          "name": "stdout",
          "text": [
            "313/313 [==============================] - 1s 2ms/step - loss: 0.2778 - accuracy: 0.9221\n",
            "Test accuracy: 0.9221000075340271\n"
          ]
        }
      ]
    },
    {
      "cell_type": "code",
      "source": [
        "# making prediction\n",
        "predictions = model.predict(X_test)"
      ],
      "metadata": {
        "colab": {
          "base_uri": "https://localhost:8080/"
        },
        "id": "7ha4E59MG9XH",
        "outputId": "e7b75dc0-e76d-4490-e7e8-22ff848e3320"
      },
      "execution_count": null,
      "outputs": [
        {
          "output_type": "stream",
          "name": "stdout",
          "text": [
            "313/313 [==============================] - 0s 1ms/step\n"
          ]
        }
      ]
    },
    {
      "cell_type": "code",
      "source": [],
      "metadata": {
        "id": "BEvPMywMG-mW"
      },
      "execution_count": null,
      "outputs": []
    }
  ]
}