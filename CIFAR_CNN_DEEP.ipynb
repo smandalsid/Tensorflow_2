{
  "nbformat": 4,
  "nbformat_minor": 0,
  "metadata": {
    "colab": {
      "provenance": [],
      "gpuType": "T4",
      "authorship_tag": "ABX9TyMF7kcr6a98Bcvozsf87fAT"
    },
    "kernelspec": {
      "name": "python3",
      "display_name": "Python 3"
    },
    "language_info": {
      "name": "python"
    },
    "accelerator": "GPU"
  },
  "cells": [
    {
      "cell_type": "code",
      "execution_count": 1,
      "metadata": {
        "id": "DuaXFISigT7S"
      },
      "outputs": [],
      "source": [
        "import tensorflow as tf\n",
        "from tensorflow.keras import layers, datasets, models, optimizers, regularizers\n",
        "import numpy as np"
      ]
    },
    {
      "cell_type": "code",
      "source": [
        "EPOCHS=50\n",
        "NUM_CLASSES = 10\n",
        "BATCH_SIZE = 128"
      ],
      "metadata": {
        "id": "ie1fmXqAhB9r"
      },
      "execution_count": 2,
      "outputs": []
    },
    {
      "cell_type": "code",
      "source": [
        "(x_train, y_train), (x_test, y_test)=datasets.cifar10.load_data()\n",
        "x_train = x_train.astype('float32')\n",
        "x_test = x_test.astype('float32')\n",
        "\n",
        "#normalize\n",
        "mean = np.mean(x_train,axis=(0,1,2,3))\n",
        "std = np.std(x_train,axis=(0,1,2,3))\n",
        "x_train = (x_train-mean)/(std+1e-7)\n",
        "x_test = (x_test-mean)/(std+1e-7)\n",
        "\n",
        "y_train =  tf.keras.utils.to_categorical(y_train,NUM_CLASSES)\n",
        "y_test =  tf.keras.utils.to_categorical(y_test,NUM_CLASSES)"
      ],
      "metadata": {
        "colab": {
          "base_uri": "https://localhost:8080/"
        },
        "id": "TVxWU1ChhJ7p",
        "outputId": "95c798da-d5cf-4d29-bdbd-c73150bba582"
      },
      "execution_count": 3,
      "outputs": [
        {
          "output_type": "stream",
          "name": "stdout",
          "text": [
            "Downloading data from https://www.cs.toronto.edu/~kriz/cifar-10-python.tar.gz\n",
            "170498071/170498071 [==============================] - 2s 0us/step\n"
          ]
        }
      ]
    },
    {
      "cell_type": "code",
      "source": [
        "model = models.Sequential()\n",
        "\n",
        "    #1st blocl\n",
        "model.add(layers.Conv2D(32, (3,3), padding='same',\n",
        "    input_shape=x_train.shape[1:], activation='relu'))\n",
        "model.add(layers.BatchNormalization())\n",
        "model.add(layers.Conv2D(32, (3,3), padding='same', activation='relu'))\n",
        "model.add(layers.BatchNormalization())\n",
        "model.add(layers.MaxPooling2D(pool_size=(2,2)))\n",
        "model.add(layers.Dropout(0.2))\n",
        "\n",
        "#2nd block\n",
        "model.add(layers.Conv2D(64, (3,3), padding='same', activation='relu'))\n",
        "model.add(layers.BatchNormalization())\n",
        "model.add(layers.Conv2D(64, (3,3), padding='same', activation='relu'))\n",
        "model.add(layers.BatchNormalization())\n",
        "model.add(layers.MaxPooling2D(pool_size=(2,2)))\n",
        "model.add(layers.Dropout(0.3))\n",
        "\n",
        "#3d block\n",
        "model.add(layers.Conv2D(128, (3,3), padding='same', activation='relu'))\n",
        "model.add(layers.BatchNormalization())\n",
        "model.add(layers.Conv2D(128, (3,3), padding='same', activation='relu'))\n",
        "model.add(layers.BatchNormalization())\n",
        "model.add(layers.MaxPooling2D(pool_size=(2,2)))\n",
        "model.add(layers.Dropout(0.4))\n",
        "\n",
        "#dense\n",
        "model.add(layers.Flatten())\n",
        "model.add(layers.Dense(NUM_CLASSES, activation='softmax'))\n",
        "\n",
        "model.summary()"
      ],
      "metadata": {
        "colab": {
          "base_uri": "https://localhost:8080/"
        },
        "id": "jA7XS7zUhWkd",
        "outputId": "501b1d4f-f8e7-4181-f822-96d9eb82e37f"
      },
      "execution_count": 4,
      "outputs": [
        {
          "output_type": "stream",
          "name": "stdout",
          "text": [
            "Model: \"sequential\"\n",
            "_________________________________________________________________\n",
            " Layer (type)                Output Shape              Param #   \n",
            "=================================================================\n",
            " conv2d (Conv2D)             (None, 32, 32, 32)        896       \n",
            "                                                                 \n",
            " batch_normalization (BatchN  (None, 32, 32, 32)       128       \n",
            " ormalization)                                                   \n",
            "                                                                 \n",
            " conv2d_1 (Conv2D)           (None, 32, 32, 32)        9248      \n",
            "                                                                 \n",
            " batch_normalization_1 (Batc  (None, 32, 32, 32)       128       \n",
            " hNormalization)                                                 \n",
            "                                                                 \n",
            " max_pooling2d (MaxPooling2D  (None, 16, 16, 32)       0         \n",
            " )                                                               \n",
            "                                                                 \n",
            " dropout (Dropout)           (None, 16, 16, 32)        0         \n",
            "                                                                 \n",
            " conv2d_2 (Conv2D)           (None, 16, 16, 64)        18496     \n",
            "                                                                 \n",
            " batch_normalization_2 (Batc  (None, 16, 16, 64)       256       \n",
            " hNormalization)                                                 \n",
            "                                                                 \n",
            " conv2d_3 (Conv2D)           (None, 16, 16, 64)        36928     \n",
            "                                                                 \n",
            " batch_normalization_3 (Batc  (None, 16, 16, 64)       256       \n",
            " hNormalization)                                                 \n",
            "                                                                 \n",
            " max_pooling2d_1 (MaxPooling  (None, 8, 8, 64)         0         \n",
            " 2D)                                                             \n",
            "                                                                 \n",
            " dropout_1 (Dropout)         (None, 8, 8, 64)          0         \n",
            "                                                                 \n",
            " conv2d_4 (Conv2D)           (None, 8, 8, 128)         73856     \n",
            "                                                                 \n",
            " batch_normalization_4 (Batc  (None, 8, 8, 128)        512       \n",
            " hNormalization)                                                 \n",
            "                                                                 \n",
            " conv2d_5 (Conv2D)           (None, 8, 8, 128)         147584    \n",
            "                                                                 \n",
            " batch_normalization_5 (Batc  (None, 8, 8, 128)        512       \n",
            " hNormalization)                                                 \n",
            "                                                                 \n",
            " max_pooling2d_2 (MaxPooling  (None, 4, 4, 128)        0         \n",
            " 2D)                                                             \n",
            "                                                                 \n",
            " dropout_2 (Dropout)         (None, 4, 4, 128)         0         \n",
            "                                                                 \n",
            " flatten (Flatten)           (None, 2048)              0         \n",
            "                                                                 \n",
            " dense (Dense)               (None, 10)                20490     \n",
            "                                                                 \n",
            "=================================================================\n",
            "Total params: 309,290\n",
            "Trainable params: 308,394\n",
            "Non-trainable params: 896\n",
            "_________________________________________________________________\n"
          ]
        }
      ]
    },
    {
      "cell_type": "code",
      "source": [
        "model.compile(loss='categorical_crossentropy',\n",
        "            optimizer='RMSprop',\n",
        "            metrics=['accuracy'])"
      ],
      "metadata": {
        "id": "xvjaFvhxhe-U"
      },
      "execution_count": 5,
      "outputs": []
    },
    {
      "cell_type": "code",
      "source": [
        "#train\n",
        "batch_size = 64\n",
        "r=model.fit(x_train, y_train, batch_size=batch_size,\n",
        "    epochs=EPOCHS, validation_data=(x_test,y_test))"
      ],
      "metadata": {
        "colab": {
          "base_uri": "https://localhost:8080/"
        },
        "id": "fxr2eXU2hiU4",
        "outputId": "703be95d-0713-4011-e342-2ba4011566f8"
      },
      "execution_count": 6,
      "outputs": [
        {
          "output_type": "stream",
          "name": "stdout",
          "text": [
            "Epoch 1/50\n",
            "782/782 [==============================] - 29s 15ms/step - loss: 1.7394 - accuracy: 0.4709 - val_loss: 1.3699 - val_accuracy: 0.5625\n",
            "Epoch 2/50\n",
            "782/782 [==============================] - 9s 12ms/step - loss: 1.0450 - accuracy: 0.6496 - val_loss: 1.0720 - val_accuracy: 0.6481\n",
            "Epoch 3/50\n",
            "782/782 [==============================] - 10s 12ms/step - loss: 0.8366 - accuracy: 0.7155 - val_loss: 0.7273 - val_accuracy: 0.7477\n",
            "Epoch 4/50\n",
            "782/782 [==============================] - 10s 12ms/step - loss: 0.7121 - accuracy: 0.7538 - val_loss: 0.6660 - val_accuracy: 0.7729\n",
            "Epoch 5/50\n",
            "782/782 [==============================] - 10s 13ms/step - loss: 0.6342 - accuracy: 0.7807 - val_loss: 0.6195 - val_accuracy: 0.7858\n",
            "Epoch 6/50\n",
            "782/782 [==============================] - 10s 12ms/step - loss: 0.5736 - accuracy: 0.8019 - val_loss: 0.6142 - val_accuracy: 0.7919\n",
            "Epoch 7/50\n",
            "782/782 [==============================] - 10s 13ms/step - loss: 0.5254 - accuracy: 0.8180 - val_loss: 0.5644 - val_accuracy: 0.8062\n",
            "Epoch 8/50\n",
            "782/782 [==============================] - 10s 12ms/step - loss: 0.4874 - accuracy: 0.8303 - val_loss: 0.5618 - val_accuracy: 0.8088\n",
            "Epoch 9/50\n",
            "782/782 [==============================] - 10s 13ms/step - loss: 0.4527 - accuracy: 0.8414 - val_loss: 0.5484 - val_accuracy: 0.8229\n",
            "Epoch 10/50\n",
            "782/782 [==============================] - 10s 12ms/step - loss: 0.4275 - accuracy: 0.8497 - val_loss: 0.5115 - val_accuracy: 0.8299\n",
            "Epoch 11/50\n",
            "782/782 [==============================] - 10s 12ms/step - loss: 0.4014 - accuracy: 0.8602 - val_loss: 0.5599 - val_accuracy: 0.8205\n",
            "Epoch 12/50\n",
            "782/782 [==============================] - 9s 12ms/step - loss: 0.3863 - accuracy: 0.8633 - val_loss: 0.5199 - val_accuracy: 0.8261\n",
            "Epoch 13/50\n",
            "782/782 [==============================] - 10s 12ms/step - loss: 0.3633 - accuracy: 0.8720 - val_loss: 0.5045 - val_accuracy: 0.8331\n",
            "Epoch 14/50\n",
            "782/782 [==============================] - 10s 12ms/step - loss: 0.3429 - accuracy: 0.8806 - val_loss: 0.4971 - val_accuracy: 0.8350\n",
            "Epoch 15/50\n",
            "782/782 [==============================] - 10s 12ms/step - loss: 0.3331 - accuracy: 0.8845 - val_loss: 0.4817 - val_accuracy: 0.8437\n",
            "Epoch 16/50\n",
            "782/782 [==============================] - 10s 13ms/step - loss: 0.3209 - accuracy: 0.8864 - val_loss: 0.5061 - val_accuracy: 0.8360\n",
            "Epoch 17/50\n",
            "782/782 [==============================] - 9s 12ms/step - loss: 0.3044 - accuracy: 0.8916 - val_loss: 0.4897 - val_accuracy: 0.8415\n",
            "Epoch 18/50\n",
            "782/782 [==============================] - 10s 12ms/step - loss: 0.2986 - accuracy: 0.8955 - val_loss: 0.4799 - val_accuracy: 0.8524\n",
            "Epoch 19/50\n",
            "782/782 [==============================] - 10s 13ms/step - loss: 0.2824 - accuracy: 0.9000 - val_loss: 0.5043 - val_accuracy: 0.8445\n",
            "Epoch 20/50\n",
            "782/782 [==============================] - 10s 12ms/step - loss: 0.2751 - accuracy: 0.9021 - val_loss: 0.4841 - val_accuracy: 0.8504\n",
            "Epoch 21/50\n",
            "782/782 [==============================] - 10s 12ms/step - loss: 0.2664 - accuracy: 0.9056 - val_loss: 0.5067 - val_accuracy: 0.8448\n",
            "Epoch 22/50\n",
            "782/782 [==============================] - 9s 12ms/step - loss: 0.2599 - accuracy: 0.9083 - val_loss: 0.4998 - val_accuracy: 0.8476\n",
            "Epoch 23/50\n",
            "782/782 [==============================] - 10s 12ms/step - loss: 0.2492 - accuracy: 0.9119 - val_loss: 0.5153 - val_accuracy: 0.8441\n",
            "Epoch 24/50\n",
            "782/782 [==============================] - 10s 12ms/step - loss: 0.2450 - accuracy: 0.9130 - val_loss: 0.4845 - val_accuracy: 0.8542\n",
            "Epoch 25/50\n",
            "782/782 [==============================] - 10s 13ms/step - loss: 0.2374 - accuracy: 0.9157 - val_loss: 0.5095 - val_accuracy: 0.8497\n",
            "Epoch 26/50\n",
            "782/782 [==============================] - 11s 13ms/step - loss: 0.2321 - accuracy: 0.9173 - val_loss: 0.4778 - val_accuracy: 0.8564\n",
            "Epoch 27/50\n",
            "782/782 [==============================] - 10s 12ms/step - loss: 0.2284 - accuracy: 0.9187 - val_loss: 0.5034 - val_accuracy: 0.8502\n",
            "Epoch 28/50\n",
            "782/782 [==============================] - 10s 12ms/step - loss: 0.2219 - accuracy: 0.9211 - val_loss: 0.4727 - val_accuracy: 0.8579\n",
            "Epoch 29/50\n",
            "782/782 [==============================] - 10s 12ms/step - loss: 0.2136 - accuracy: 0.9248 - val_loss: 0.5114 - val_accuracy: 0.8501\n",
            "Epoch 30/50\n",
            "782/782 [==============================] - 10s 13ms/step - loss: 0.2078 - accuracy: 0.9260 - val_loss: 0.4827 - val_accuracy: 0.8570\n",
            "Epoch 31/50\n",
            "782/782 [==============================] - 10s 12ms/step - loss: 0.2091 - accuracy: 0.9250 - val_loss: 0.4797 - val_accuracy: 0.8630\n",
            "Epoch 32/50\n",
            "782/782 [==============================] - 9s 12ms/step - loss: 0.2050 - accuracy: 0.9267 - val_loss: 0.4654 - val_accuracy: 0.8605\n",
            "Epoch 33/50\n",
            "782/782 [==============================] - 10s 12ms/step - loss: 0.2028 - accuracy: 0.9283 - val_loss: 0.5052 - val_accuracy: 0.8583\n",
            "Epoch 34/50\n",
            "782/782 [==============================] - 10s 12ms/step - loss: 0.1905 - accuracy: 0.9309 - val_loss: 0.5071 - val_accuracy: 0.8580\n",
            "Epoch 35/50\n",
            "782/782 [==============================] - 10s 12ms/step - loss: 0.1894 - accuracy: 0.9312 - val_loss: 0.5194 - val_accuracy: 0.8551\n",
            "Epoch 36/50\n",
            "782/782 [==============================] - 10s 12ms/step - loss: 0.1892 - accuracy: 0.9317 - val_loss: 0.4889 - val_accuracy: 0.8584\n",
            "Epoch 37/50\n",
            "782/782 [==============================] - 10s 12ms/step - loss: 0.1845 - accuracy: 0.9341 - val_loss: 0.4994 - val_accuracy: 0.8599\n",
            "Epoch 38/50\n",
            "782/782 [==============================] - 10s 12ms/step - loss: 0.1802 - accuracy: 0.9359 - val_loss: 0.5058 - val_accuracy: 0.8532\n",
            "Epoch 39/50\n",
            "782/782 [==============================] - 10s 12ms/step - loss: 0.1795 - accuracy: 0.9340 - val_loss: 0.4831 - val_accuracy: 0.8627\n",
            "Epoch 40/50\n",
            "782/782 [==============================] - 10s 12ms/step - loss: 0.1792 - accuracy: 0.9351 - val_loss: 0.4921 - val_accuracy: 0.8627\n",
            "Epoch 41/50\n",
            "782/782 [==============================] - 10s 13ms/step - loss: 0.1748 - accuracy: 0.9379 - val_loss: 0.4988 - val_accuracy: 0.8658\n",
            "Epoch 42/50\n",
            "782/782 [==============================] - 10s 12ms/step - loss: 0.1676 - accuracy: 0.9400 - val_loss: 0.4984 - val_accuracy: 0.8623\n",
            "Epoch 43/50\n",
            "782/782 [==============================] - 10s 13ms/step - loss: 0.1635 - accuracy: 0.9409 - val_loss: 0.5245 - val_accuracy: 0.8590\n",
            "Epoch 44/50\n",
            "782/782 [==============================] - 10s 13ms/step - loss: 0.1645 - accuracy: 0.9417 - val_loss: 0.5330 - val_accuracy: 0.8576\n",
            "Epoch 45/50\n",
            "782/782 [==============================] - 10s 13ms/step - loss: 0.1646 - accuracy: 0.9401 - val_loss: 0.5079 - val_accuracy: 0.8626\n",
            "Epoch 46/50\n",
            "782/782 [==============================] - 10s 13ms/step - loss: 0.1574 - accuracy: 0.9430 - val_loss: 0.4977 - val_accuracy: 0.8624\n",
            "Epoch 47/50\n",
            "782/782 [==============================] - 10s 12ms/step - loss: 0.1640 - accuracy: 0.9411 - val_loss: 0.4983 - val_accuracy: 0.8600\n",
            "Epoch 48/50\n",
            "782/782 [==============================] - 10s 13ms/step - loss: 0.1579 - accuracy: 0.9418 - val_loss: 0.4864 - val_accuracy: 0.8638\n",
            "Epoch 49/50\n",
            "782/782 [==============================] - 10s 12ms/step - loss: 0.1549 - accuracy: 0.9451 - val_loss: 0.5084 - val_accuracy: 0.8622\n",
            "Epoch 50/50\n",
            "782/782 [==============================] - 10s 12ms/step - loss: 0.1506 - accuracy: 0.9457 - val_loss: 0.5067 - val_accuracy: 0.8633\n"
          ]
        }
      ]
    },
    {
      "cell_type": "code",
      "source": [
        "score = model.evaluate(x_test, y_test,\n",
        "                     batch_size=BATCH_SIZE)\n",
        "print(\"\\nTest score:\", score[0])\n",
        "print('Test accuracy:', score[1])"
      ],
      "metadata": {
        "colab": {
          "base_uri": "https://localhost:8080/"
        },
        "id": "-G0dyTXZhlQX",
        "outputId": "ef5d22b2-db0d-4ba9-c7b4-a33d3a323e56"
      },
      "execution_count": 7,
      "outputs": [
        {
          "output_type": "stream",
          "name": "stdout",
          "text": [
            "79/79 [==============================] - 1s 5ms/step - loss: 0.5067 - accuracy: 0.8633\n",
            "\n",
            "Test score: 0.5066640973091125\n",
            "Test accuracy: 0.8633000254631042\n"
          ]
        }
      ]
    },
    {
      "cell_type": "code",
      "source": [
        "import matplotlib.pyplot as plt\n",
        "plt.plot(r.history['loss'], label='loss')\n",
        "plt.plot(r.history['val_loss'], label='val_loss')\n",
        "plt.legend()\n",
        "plt.show()"
      ],
      "metadata": {
        "colab": {
          "base_uri": "https://localhost:8080/",
          "height": 431
        },
        "id": "OEQZEjODhmg8",
        "outputId": "853946ae-a086-4238-b4cc-4dca13d67249"
      },
      "execution_count": 8,
      "outputs": [
        {
          "output_type": "display_data",
          "data": {
            "text/plain": [
              "<Figure size 640x480 with 1 Axes>"
            ],
            "image/png": "[encoded data removed]"
          },
          "metadata": {}
        }
      ]
    },
    {
      "cell_type": "code",
      "source": [
        "plt.plot(r.history['accuracy'], label='accuracy')\n",
        "plt.plot(r.history['val_accuracy'], label='val_acc')\n",
        "plt.legend()\n",
        "plt.show()"
      ],
      "metadata": {
        "colab": {
          "base_uri": "https://localhost:8080/",
          "height": 430
        },
        "id": "8XtrvNxRhoXn",
        "outputId": "053c32dd-af91-42b9-95db-2d4c169541ae"
      },
      "execution_count": 9,
      "outputs": [
        {
          "output_type": "display_data",
          "data": {
            "text/plain": [
              "<Figure size 640x480 with 1 Axes>"
            ],
            "image/png": "[encoded data removed]"
          },
          "metadata": {}
        }
      ]
    },
    {
      "cell_type": "code",
      "source": [],
      "metadata": {
        "id": "E8En6w3fhptf"
      },
      "execution_count": null,
      "outputs": []
    }
  ]
}